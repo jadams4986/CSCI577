{
 "metadata": {
  "name": "Vector_3D"
 },
 "nbformat": 3,
 "nbformat_minor": 0,
 "worksheets": [
  {
   "cells": [
    {
     "cell_type": "code",
     "collapsed": false,
     "input": [
      "# import packages\n",
      "from scipy import *\n",
      "from numpy import *\n",
      "from matplotlib.pyplot import *\n",
      "from math import e, sqrt\n",
      "from numpy.linalg import norm\n",
      "from scipy.integrate import ode"
     ],
     "language": "python",
     "metadata": {},
     "outputs": [],
     "prompt_number": 2
    },
    {
     "cell_type": "code",
     "collapsed": false,
     "input": [
      "class Vector_3D:\n",
      "    # override operators??? => *\n",
      "    def __init__(self, initial_x, initial_y, initial_z):\n",
      "        self.x = initial_x\n",
      "        self.y = initial_y\n",
      "        self.z = initial_z\n",
      "    def __str__(self):\n",
      "        return \"x: \" + str(self.x) + \" y: \" + str(self.y) + \" z: \" + str(self.z) + \" | \"\n",
      "    \n",
      "    def __mul__(self, other):\n",
      "        if isinstance(other, Vector_3D):\n",
      "            x_product = self.x * other.x\n",
      "            y_product = self.y * other.y\n",
      "            z_product = self.z * other.z\n",
      "            return Vector_3D(x_product, y_product, z_product)\n",
      "        elif isinstance(other, int) or isinstance(other, float):\n",
      "            x_product = self.x*other\n",
      "            y_product = self.y*other\n",
      "            z_product = self.z*other\n",
      "            return Vector_3D(x_product, y_product, z_product)\n",
      "    \n",
      "    def __mod__(self, other):   # overload MOD operator to render magnitude of distance\n",
      "        return self.magnitude_of_dist(self-other)\n",
      "    \n",
      "    def __add__(self, other):\n",
      "        return Vector_3D(self.x+other.x, self.y+other.y, self.z+other.z)\n",
      "    \n",
      "    def __sub__(self, other):\n",
      "        x_sub = self.x - other.x\n",
      "        y_sub = self.y - other.y\n",
      "        z_sub = self.z - other.z\n",
      "        return Vector_3D(x_sub, y_sub, z_sub)\n",
      "    \n",
      "    def __div__(self, other):\n",
      "        x_div = float64(self.x) / other.x\n",
      "        y_div = float64(self.y) / other.y\n",
      "        z_div = float64(self.z) / other.z\n",
      "        return Vector_3D(x_div, y_div, z_div)\n",
      "    \n",
      "    def __pow__(self, power):\n",
      "        self.x = self.x**power\n",
      "        self.y = self.y**power\n",
      "        self.z = self.z**power\n",
      "        return self\n",
      "    \n",
      "    def magnitude_of_dist(self, r, p = 0.5):\n",
      "        return (r.x**2 + r.y**2 + r.z**2)**p\n",
      "    \n",
      "    def magnitude(self):\n",
      "        return sqrt(self.x**2 + self.y**2 + self.z**2)\n"
     ],
     "language": "python",
     "metadata": {},
     "outputs": [],
     "prompt_number": 3
    },
    {
     "cell_type": "code",
     "collapsed": false,
     "input": [
      "r1 = Vector_3D(1, 2, 3)\n",
      "r2 = Vector_3D(3, 4, 5)\n",
      "r3 = Vector_3D(5, 6, 7)\n",
      "r4 = Vector_3D(7, 8, 9)\n",
      "r5 = Vector_3D(9, 0, 1)\n",
      "vector_list = [r1, r2, r3, r4, r5]\n",
      "\n",
      "rgPos = tile(vector_list, (len(vector_list),1))\n",
      "\n",
      "print rgPos"
     ],
     "language": "python",
     "metadata": {},
     "outputs": [
      {
       "output_type": "stream",
       "stream": "stdout",
       "text": [
        "[[x: 1 y: 2 z: 3 |  x: 3 y: 4 z: 5 |  x: 5 y: 6 z: 7 |  x: 7 y: 8 z: 9 |\n",
        "  x: 9 y: 0 z: 1 | ]\n",
        " [x: 1 y: 2 z: 3 |  x: 3 y: 4 z: 5 |  x: 5 y: 6 z: 7 |  x: 7 y: 8 z: 9 |\n",
        "  x: 9 y: 0 z: 1 | ]\n",
        " [x: 1 y: 2 z: 3 |  x: 3 y: 4 z: 5 |  x: 5 y: 6 z: 7 |  x: 7 y: 8 z: 9 |\n",
        "  x: 9 y: 0 z: 1 | ]\n",
        " [x: 1 y: 2 z: 3 |  x: 3 y: 4 z: 5 |  x: 5 y: 6 z: 7 |  x: 7 y: 8 z: 9 |\n",
        "  x: 9 y: 0 z: 1 | ]\n",
        " [x: 1 y: 2 z: 3 |  x: 3 y: 4 z: 5 |  x: 5 y: 6 z: 7 |  x: 7 y: 8 z: 9 |\n",
        "  x: 9 y: 0 z: 1 | ]]\n"
       ]
      }
     ],
     "prompt_number": 4
    },
    {
     "cell_type": "code",
     "collapsed": false,
     "input": [
      "transpose(rgPos)"
     ],
     "language": "python",
     "metadata": {},
     "outputs": [
      {
       "output_type": "pyout",
       "prompt_number": 5,
       "text": [
        "array([[x: 1 y: 2 z: 3 | , x: 1 y: 2 z: 3 | , x: 1 y: 2 z: 3 | ,\n",
        "        x: 1 y: 2 z: 3 | , x: 1 y: 2 z: 3 | ],\n",
        "       [x: 3 y: 4 z: 5 | , x: 3 y: 4 z: 5 | , x: 3 y: 4 z: 5 | ,\n",
        "        x: 3 y: 4 z: 5 | , x: 3 y: 4 z: 5 | ],\n",
        "       [x: 5 y: 6 z: 7 | , x: 5 y: 6 z: 7 | , x: 5 y: 6 z: 7 | ,\n",
        "        x: 5 y: 6 z: 7 | , x: 5 y: 6 z: 7 | ],\n",
        "       [x: 7 y: 8 z: 9 | , x: 7 y: 8 z: 9 | , x: 7 y: 8 z: 9 | ,\n",
        "        x: 7 y: 8 z: 9 | , x: 7 y: 8 z: 9 | ],\n",
        "       [x: 9 y: 0 z: 1 | , x: 9 y: 0 z: 1 | , x: 9 y: 0 z: 1 | ,\n",
        "        x: 9 y: 0 z: 1 | , x: 9 y: 0 z: 1 | ]], dtype=object)"
       ]
      }
     ],
     "prompt_number": 5
    },
    {
     "cell_type": "heading",
     "level": 1,
     "metadata": {},
     "source": [
      "Distance Matrix"
     ]
    },
    {
     "cell_type": "code",
     "collapsed": false,
     "input": [
      "mass_list = [1., 2., 3., 4., 5.]\n",
      "rgMass = tile(mass_list, (len(mass_list),1))\n",
      "\n",
      "print rgMass\n",
      "\n",
      "print sum(rgMass, axis = 1)"
     ],
     "language": "python",
     "metadata": {},
     "outputs": [
      {
       "output_type": "stream",
       "stream": "stdout",
       "text": [
        "[[ 1.  2.  3.  4.  5.]\n",
        " [ 1.  2.  3.  4.  5.]\n",
        " [ 1.  2.  3.  4.  5.]\n",
        " [ 1.  2.  3.  4.  5.]\n",
        " [ 1.  2.  3.  4.  5.]]\n",
        "[ 15.  15.  15.  15.  15.]\n"
       ]
      }
     ],
     "prompt_number": 6
    },
    {
     "cell_type": "code",
     "collapsed": false,
     "input": [
      "# Given the above Vector_3D class and a tiled matrix rgMass,\n",
      "# which is made up of the position vectors of particles, we can create\n",
      "# a distance matrix by taking:\n",
      "#    rgPos - transpose(rgPos)\n",
      "# We can create a somewhat similarly defined mass matrix, where we have some\n",
      "# initially tiled matrix created from a vector of masses, and the mass matrix \n",
      "# is then:\n",
      "#    rgMass * transpose(rgMass)\n",
      "# where the multiplication is elementwise. Then M_{ij} = m_i * m_j.\n",
      "# So using the force equation from the most recent assignment, we can calculate\n",
      "# the accelerations as follows:\n",
      "\n",
      "G = 1.  # some scaled gravitational constant\n",
      "\n",
      "mass_list = [1., 2., 3., 4., 5.]\n",
      "rgMass = tile(mass_list, (len(mass_list),1)) # tiled array of masses for the 5 particles\n",
      "\n",
      "rgBuild = G * rgMass * transpose(rgMass) / float64((rgPos % transpose(rgPos))**3) \n",
      "\n",
      "# rgBuild = triu(rgBuild, 1) + tril(rgBuild, 1)\n",
      "rgBuild[rgBuild==np.inf]=0 #change inf to zero\n",
      "\n",
      "# need to modify Vector_3D class so that we can multiply an array of Vector_3D objects by\n",
      "# a scalar. i.e. we need to be able to do:\n",
      "rgBuild = (rgPos - transpose(rgPos)) * rgBuild\n",
      "# and then the acceleration can be calculated like so:\n",
      "rgAcc = sum(rgBuild, axis = 1) * array(mass_list)\n",
      "\n",
      "print rgBuild\n",
      "print rgAcc"
     ],
     "language": "python",
     "metadata": {},
     "outputs": [
      {
       "output_type": "stream",
       "stream": "stdout",
       "text": [
        "[[x: 0.0 y: 0.0 z: 0.0 |\n",
        "  x: 0.0962250448649 y: 0.0962250448649 z: 0.0962250448649 |\n",
        "  x: 0.0360843918244 y: 0.0360843918244 z: 0.0360843918244 |\n",
        "  x: 0.0213833433033 y: 0.0213833433033 z: 0.0213833433033 |\n",
        "  x: 0.0654728501099 y: -0.0163682125275 z: -0.0163682125275 | ]\n",
        " [x: -0.0962250448649 y: -0.0962250448649 z: -0.0962250448649 |\n",
        "  x: 0.0 y: 0.0 z: 0.0 |\n",
        "  x: 0.288675134595 y: 0.288675134595 z: 0.288675134595 |\n",
        "  x: 0.0962250448649 y: 0.0962250448649 z: 0.0962250448649 |\n",
        "  x: 0.107001011045 y: -0.0713340073636 z: -0.0713340073636 | ]\n",
        " [x: -0.0360843918244 y: -0.0360843918244 z: -0.0360843918244 |\n",
        "  x: -0.288675134595 y: -0.288675134595 z: -0.288675134595 |\n",
        "  x: 0.0 y: 0.0 z: 0.0 |\n",
        "  x: 0.57735026919 y: 0.57735026919 z: 0.57735026919 |\n",
        "  x: 0.072682062394 y: -0.109023093591 z: -0.109023093591 | ]\n",
        " [x: -0.0213833433033 y: -0.0213833433033 z: -0.0213833433033 |\n",
        "  x: -0.0962250448649 y: -0.0962250448649 z: -0.0962250448649 |\n",
        "  x: -0.57735026919 y: -0.57735026919 z: -0.57735026919 |\n",
        "  x: 0.0 y: 0.0 z: 0.0 |\n",
        "  x: 0.0263754024175 y: -0.10550160967 z: -0.10550160967 | ]\n",
        " [x: -0.0654728501099 y: 0.0163682125275 z: 0.0163682125275 |\n",
        "  x: -0.107001011045 y: 0.0713340073636 z: 0.0713340073636 |\n",
        "  x: -0.072682062394 y: 0.109023093591 z: 0.109023093591 |\n",
        "  x: -0.0263754024175 y: 0.10550160967 z: 0.10550160967 |\n",
        "  x: 0.0 y: 0.0 z: 0.0 | ]]\n",
        "[x: 0.219165630102 y: 0.137324567465 z: 0.137324567465 |\n",
        " x: 0.791352291281 y: 0.434682254462 z: 0.434682254462 |\n",
        " x: 0.975818415493 y: 0.430702947539 z: 0.430702947539 |\n",
        " x: -2.67433301976 y: -3.20184106811 z: -3.20184106811 |\n",
        " x: -1.35765662983 y: 1.51113461576 z: 1.51113461576 | ]\n"
       ]
      },
      {
       "output_type": "stream",
       "stream": "stderr",
       "text": [
        "-c:18: RuntimeWarning: divide by zero encountered in divide\n"
       ]
      }
     ],
     "prompt_number": 7
    },
    {
     "cell_type": "code",
     "collapsed": false,
     "input": [
      "# x1 y1 vx1 vy1 m1\n",
      "# ['0.', '0.', '0.', '0.', '1.']\n",
      "# ['1.', '0.', '0.', '0.8', '1.']\n",
      "# ['-1.', '0.', '0.', '-0.8', '1.']\n",
      "\n",
      "r1 = Vector_3D(0., 0., 0.)\n",
      "r2 = Vector_3D(1., 0., 0.)\n",
      "r3 = Vector_3D(-1., 0., 0.)\n",
      "\n",
      "vector_list = [r1, r2, r3]\n",
      "\n",
      "rgPos = tile(vector_list, (len(vector_list),1))\n",
      "\n",
      "mass_list = [1., 1., 1.]\n",
      "rgMass = tile(mass_list, (len(mass_list),1))\n",
      "\n",
      "rgBuild = G * rgMass * transpose(rgMass) / float64((rgPos % transpose(rgPos))**3) \n",
      "\n",
      "# rgBuild = triu(rgBuild, 1) + tril(rgBuild, 1)\n",
      "rgBuild[rgBuild==np.inf]=0 #change inf to zero\n",
      "\n",
      "# need to modify Vector_3D class so that we can multiply an array of Vector_3D objects by\n",
      "# a scalar. i.e. we need to be able to do:\n",
      "rgBuild = (rgPos - transpose(rgPos)) * rgBuild\n",
      "# and then the acceleration can be calculated like so:\n",
      "rgAcc = sum(rgBuild, axis = 1) * array(mass_list)\n",
      "\n",
      "print rgBuild\n",
      "print '\\n'\n",
      "print rgAcc\n"
     ],
     "language": "python",
     "metadata": {},
     "outputs": [
      {
       "output_type": "stream",
       "stream": "stdout",
       "text": [
        "[[x: 0.0 y: 0.0 z: 0.0 |  x: 1.0 y: 0.0 z: 0.0 |  x: -1.0 y: 0.0 z: 0.0 | ]\n",
        " [x: -1.0 y: 0.0 z: 0.0 |  x: 0.0 y: 0.0 z: 0.0 |  x: -0.25 y: 0.0 z: 0.0 | ]\n",
        " [x: 1.0 y: 0.0 z: 0.0 |  x: 0.25 y: 0.0 z: 0.0 |  x: 0.0 y: 0.0 z: 0.0 | ]]\n",
        "\n",
        "\n",
        "[x: 0.0 y: 0.0 z: 0.0 |  x: -1.25 y: 0.0 z: 0.0 |  x: 1.25 y: 0.0 z: 0.0 | ]\n"
       ]
      }
     ],
     "prompt_number": 11
    },
    {
     "cell_type": "code",
     "collapsed": false,
     "input": [
      "# x1 y1 vx1 vy1 m1\n",
      "# 1. 0. 0. 0.8 1.\n",
      "# -0.5 0.866025403784439 -0.692820323027551 -0.4 1.\n",
      "# -0.5 -0.866025403784439 0.692820323027551 -0.4 1.\n",
      "\n",
      "r1 = Vector_3D(1., 0., 0.)\n",
      "r2 = Vector_3D(-0.5, 0.866025403784439, 0.)\n",
      "r3 = Vector_3D(-0.5, -0.866025403784439, 0.)\n",
      "\n",
      "vector_list = [r1, r2, r3]\n",
      "\n",
      "rgPos = tile(vector_list, (len(vector_list),1))\n",
      "\n",
      "mass_list = [1., 1., 1.]\n",
      "rgMass = tile(mass_list, (len(mass_list),1))\n",
      "\n",
      "rgBuild = G * rgMass * transpose(rgMass) / float64((rgPos % transpose(rgPos))**3) \n",
      "\n",
      "# rgBuild = triu(rgBuild, 1) + tril(rgBuild, 1)\n",
      "rgBuild[rgBuild==np.inf]=0 #change inf to zero\n",
      "\n",
      "# need to modify Vector_3D class so that we can multiply an array of Vector_3D objects by\n",
      "# a scalar. i.e. we need to be able to do:\n",
      "rgBuild = (rgPos - transpose(rgPos)) * rgBuild\n",
      "# and then the acceleration can be calculated like so:\n",
      "rgAcc = sum(rgBuild, axis = 1) * array(mass_list)\n",
      "\n",
      "print rgBuild\n",
      "print '\\n'\n",
      "print rgAcc\n"
     ],
     "language": "python",
     "metadata": {},
     "outputs": [
      {
       "output_type": "stream",
       "stream": "stdout",
       "text": [
        "[[x: 0.0 y: 0.0 z: 0.0 |  x: -0.288675134595 y: 0.166666666667 z: 0.0 |\n",
        "  x: -0.288675134595 y: -0.166666666667 z: 0.0 | ]\n",
        " [x: 0.288675134595 y: -0.166666666667 z: 0.0 |  x: 0.0 y: 0.0 z: 0.0 |\n",
        "  x: 0.0 y: -0.333333333333 z: 0.0 | ]\n",
        " [x: 0.288675134595 y: 0.166666666667 z: 0.0 |\n",
        "  x: 0.0 y: 0.333333333333 z: 0.0 |  x: 0.0 y: 0.0 z: 0.0 | ]]\n",
        "\n",
        "\n",
        "[x: -0.57735026919 y: 0.0 z: 0.0 |  x: 0.288675134595 y: -0.5 z: 0.0 |\n",
        " x: 0.288675134595 y: 0.5 z: 0.0 | ]\n"
       ]
      }
     ],
     "prompt_number": 14
    },
    {
     "cell_type": "code",
     "collapsed": false,
     "input": [
      "# Acceleration calculation\n",
      "# input:\n",
      "#    vector_list: list of position vectors. e.g.\n",
      "#           [r1 r2 r3]\n",
      "#    mass_list: list of masses corresponding to the position vectors above. e.g.\n",
      "#           [m1 m2 m3]\n",
      "#    G: gravitational constant (perhaps this should be a global instead?)\n",
      "# output:\n",
      "#    array of accelerations (in same order as the inputs). e.g.\n",
      "#           [a1 a2 a3]\n",
      "def fnrgAcc(vector_list, mass_list, G):\n",
      "    rgPos = tile(vector_list, (len(vector_list),1))\n",
      "    rgMass = tile(mass_list, (len(mass_list),1))\n",
      "    \n",
      "    rgBuild = G * rgMass * transpose(rgMass) / float64((rgPos % transpose(rgPos))**3) \n",
      "    rgBuild[rgBuild==np.inf]=0 #change inf to zero\n",
      "    \n",
      "    rgBuild = (rgPos - transpose(rgPos)) * rgBuild\n",
      "    return sum(rgBuild, axis = 1) * array(mass_list)\n",
      "    \n",
      "\n",
      "print fnrgAcc(vector_list, mass_list, G)"
     ],
     "language": "python",
     "metadata": {},
     "outputs": [
      {
       "output_type": "stream",
       "stream": "stdout",
       "text": [
        "[x: -0.57735026919 y: 0.0 z: 0.0 |  x: 0.288675134595 y: -0.5 z: 0.0 |\n",
        " x: 0.288675134595 y: 0.5 z: 0.0 | ]\n"
       ]
      },
      {
       "output_type": "stream",
       "stream": "stderr",
       "text": [
        "-c:15: RuntimeWarning: divide by zero encountered in divide\n"
       ]
      }
     ],
     "prompt_number": 15
    }
   ],
   "metadata": {}
  }
 ]
}