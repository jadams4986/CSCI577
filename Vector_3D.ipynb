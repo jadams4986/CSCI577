{
 "metadata": {
  "name": "Vector_3D"
 },
 "nbformat": 3,
 "nbformat_minor": 0,
 "worksheets": [
  {
   "cells": [
    {
     "cell_type": "code",
     "collapsed": false,
     "input": [
      "# import packages\n",
      "from scipy import *\n",
      "from numpy import *\n",
      "from matplotlib.pyplot import *\n",
      "from math import e, sqrt\n",
      "from numpy.linalg import norm\n",
      "from scipy.integrate import ode"
     ],
     "language": "python",
     "metadata": {},
     "outputs": [],
     "prompt_number": 14
    },
    {
     "cell_type": "code",
     "collapsed": false,
     "input": [
      "class Vector_3D:\n",
      "    # override operators??? => *\n",
      "    def __init__(self, initial_x, initial_y, initial_z):\n",
      "        self.x = initial_x\n",
      "        self.y = initial_y\n",
      "        self.z = initial_z\n",
      "    def __str__(self):\n",
      "        return \"x: \" + str(self.x) + \" y: \" + str(self.y) + \" z: \" + str(self.z) + \" | \"\n",
      "    \n",
      "    def __mul__(self, other):\n",
      "        x_product = self.x * other.x\n",
      "        y_product = self.y * other.y\n",
      "        z_product = self.z * other.z\n",
      "        return Vector_3D(x_product, y_product, z_product)\n",
      "    \n",
      "    def __mod__(self, other):   # overload MOD operator to render magnitude of distance\n",
      "        return self.magnitude_of_dist(self-other)\n",
      "    \n",
      "    def __sub__(self, other):\n",
      "        x_sub = self.x - other.x\n",
      "        y_sub = self.y - other.y\n",
      "        z_sub = self.z - other.z\n",
      "        return Vector_3D(x_sub, y_sub, z_sub)\n",
      "    \n",
      "    def __div__(self, other):\n",
      "        x_div = float64(self.x) / other.x\n",
      "        y_div = float64(self.y) / other.y\n",
      "        z_div = float64(self.z) / other.z\n",
      "        return Vector_3D(x_div, y_div, z_div)\n",
      "    \n",
      "    def __pow__(self, power):\n",
      "        self.x = self.x**power\n",
      "        self.y = self.y**power\n",
      "        self.z = self.z**power\n",
      "        return self\n",
      "    \n",
      "    def magnitude_of_dist(self, r):\n",
      "        return sqrt(r.x**2 + r.y**2 + r.z**2)\n",
      "    \n",
      "    def magnitude(self):\n",
      "        return sqrt(self.x**2 + self.y**2 + self.z**2)\n",
      "    \n",
      "    def raw_mag(self, r):\n",
      "        return r.x**2 + r.y**2 + r.z**2"
     ],
     "language": "python",
     "metadata": {},
     "outputs": [],
     "prompt_number": 15
    },
    {
     "cell_type": "code",
     "collapsed": false,
     "input": [
      "r1 = Vector_3D(1, 2, 3)\n",
      "r2 = Vector_3D(3, 4, 5)\n",
      "r3 = Vector_3D(5, 6, 7)\n",
      "r4 = Vector_3D(7, 8, 9)\n",
      "r5 = Vector_3D(9, 0, 1)\n",
      "vector_list = [r1, r2, r3, r4, r5]\n",
      "\n",
      "rgPos = tile(vector_list, (len(vector_list),1))\n",
      "\n",
      "print rgPos"
     ],
     "language": "python",
     "metadata": {},
     "outputs": [
      {
       "output_type": "stream",
       "stream": "stdout",
       "text": [
        "[[x: 1 y: 2 z: 3 |  x: 3 y: 4 z: 5 |  x: 5 y: 6 z: 7 |  x: 7 y: 8 z: 9 |\n",
        "  x: 9 y: 0 z: 1 | ]\n",
        " [x: 1 y: 2 z: 3 |  x: 3 y: 4 z: 5 |  x: 5 y: 6 z: 7 |  x: 7 y: 8 z: 9 |\n",
        "  x: 9 y: 0 z: 1 | ]\n",
        " [x: 1 y: 2 z: 3 |  x: 3 y: 4 z: 5 |  x: 5 y: 6 z: 7 |  x: 7 y: 8 z: 9 |\n",
        "  x: 9 y: 0 z: 1 | ]\n",
        " [x: 1 y: 2 z: 3 |  x: 3 y: 4 z: 5 |  x: 5 y: 6 z: 7 |  x: 7 y: 8 z: 9 |\n",
        "  x: 9 y: 0 z: 1 | ]\n",
        " [x: 1 y: 2 z: 3 |  x: 3 y: 4 z: 5 |  x: 5 y: 6 z: 7 |  x: 7 y: 8 z: 9 |\n",
        "  x: 9 y: 0 z: 1 | ]]\n"
       ]
      }
     ],
     "prompt_number": 16
    },
    {
     "cell_type": "code",
     "collapsed": false,
     "input": [
      "transpose(rgPos)"
     ],
     "language": "python",
     "metadata": {},
     "outputs": [
      {
       "output_type": "pyout",
       "prompt_number": 17,
       "text": [
        "array([[x: 1 y: 2 z: 3 | , x: 1 y: 2 z: 3 | , x: 1 y: 2 z: 3 | ,\n",
        "        x: 1 y: 2 z: 3 | , x: 1 y: 2 z: 3 | ],\n",
        "       [x: 3 y: 4 z: 5 | , x: 3 y: 4 z: 5 | , x: 3 y: 4 z: 5 | ,\n",
        "        x: 3 y: 4 z: 5 | , x: 3 y: 4 z: 5 | ],\n",
        "       [x: 5 y: 6 z: 7 | , x: 5 y: 6 z: 7 | , x: 5 y: 6 z: 7 | ,\n",
        "        x: 5 y: 6 z: 7 | , x: 5 y: 6 z: 7 | ],\n",
        "       [x: 7 y: 8 z: 9 | , x: 7 y: 8 z: 9 | , x: 7 y: 8 z: 9 | ,\n",
        "        x: 7 y: 8 z: 9 | , x: 7 y: 8 z: 9 | ],\n",
        "       [x: 9 y: 0 z: 1 | , x: 9 y: 0 z: 1 | , x: 9 y: 0 z: 1 | ,\n",
        "        x: 9 y: 0 z: 1 | , x: 9 y: 0 z: 1 | ]], dtype=object)"
       ]
      }
     ],
     "prompt_number": 17
    },
    {
     "cell_type": "heading",
     "level": 1,
     "metadata": {},
     "source": [
      "Distance Matrix"
     ]
    },
    {
     "cell_type": "code",
     "collapsed": false,
     "input": [
      "mass_list = [1., 2., 3., 4., 5.]\n",
      "rgMass = tile(mass_list, (len(mass_list),1))\n",
      "\n",
      "print rgMass\n",
      "\n",
      "print sum(rgMass, axis = 1)"
     ],
     "language": "python",
     "metadata": {},
     "outputs": [
      {
       "output_type": "stream",
       "stream": "stdout",
       "text": [
        "[[ 1.  2.  3.  4.  5.]\n",
        " [ 1.  2.  3.  4.  5.]\n",
        " [ 1.  2.  3.  4.  5.]\n",
        " [ 1.  2.  3.  4.  5.]\n",
        " [ 1.  2.  3.  4.  5.]]\n",
        "[ 15.  15.  15.  15.  15.]\n"
       ]
      }
     ],
     "prompt_number": 14
    },
    {
     "cell_type": "code",
     "collapsed": false,
     "input": [
      "# Given the above Vector_3D class and a tiled matrix rgMass,\n",
      "# which is made up of the position vectors of particles, we can create\n",
      "# a distance matrix by taking:\n",
      "#    rgPos - transpose(rgPos)\n",
      "# We can create a somewhat similarly defined mass matrix, where we have some\n",
      "# initially tiled matrix created from a vector of masses, and the mass matrix \n",
      "# is then:\n",
      "#    rgMass * transpose(rgMass)\n",
      "# where the multiplication is elementwise. Then M_{ij} = m_i * m_j.\n",
      "# So using the force equation from the most recent assignment, we can calculate\n",
      "# the accelerations as follows:\n",
      "\n",
      "G = 1.  # some scaled gravitational constant\n",
      "\n",
      "mass_list = [1., 2., 3., 4., 5.]\n",
      "rgMass = tile(mass_list, (len(mass_list),1)) # tiled array of masses for the 5 particles\n",
      "\n",
      "rgBuild = G * rgMass * transpose(rgMass) / float64((rgPos % transpose(rgPos))**3) \n",
      "\n",
      "rgBuild = triu(rgBuild) + tril(rgBuild)\n",
      "\n",
      "# need to modify Vector_3D class so that we can multiply an array of Vector_3D objects by\n",
      "# a scalar. i.e. we need to be able to do:\n",
      "#    rgBuild = rgBuild * (rgPos - transpose(rgPos))\n",
      "# and then the acceleration can be calculated like so:\n",
      "#    rgAcc = array(mass_list) * sum(rgBuild, axis = 1)\n"
     ],
     "language": "python",
     "metadata": {},
     "outputs": [
      {
       "output_type": "stream",
       "stream": "stderr",
       "text": [
        "-c:18: RuntimeWarning: divide by zero encountered in divide\n"
       ]
      }
     ],
     "prompt_number": 49
    }
   ],
   "metadata": {}
  }
 ]
}