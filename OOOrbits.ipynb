{
 "metadata": {
  "name": "OOOrbits"
 },
 "nbformat": 3,
 "nbformat_minor": 0,
 "worksheets": [
  {
   "cells": [
    {
     "cell_type": "code",
     "collapsed": false,
     "input": [
      "# import packages\n",
      "from scipy import *\n",
      "from numpy import *\n",
      "from matplotlib.pyplot import *\n",
      "from math import e, sqrt\n",
      "from numpy.linalg import norm\n",
      "from scipy.integrate import ode"
     ],
     "language": "python",
     "metadata": {},
     "outputs": [],
     "prompt_number": 9
    },
    {
     "cell_type": "code",
     "collapsed": false,
     "input": [
      "class Body:\n",
      "    def __init__(self, rgPosInit, rgVelInit, dMassInit):\n",
      "        self.rgPos = rgPosInit\n",
      "        self.rgVel = rgVelInit\n",
      "        self.dMass = dMassInit\n",
      "        \n",
      "    def getState(self):\n",
      "        return array([self.rgPos, self.rgVel]).reshape(len(self.rgPos) + len(self.rgVel))\n",
      "    \n",
      "    def setState(self, rgPosSet, rgVelSet):\n",
      "        self.rgPos = rgPosSet\n",
      "        self.rgVel = rgVelSet\n",
      "        \n",
      "    def __str__(self):\n",
      "        strBody = '\\t\\tLoc: ' + str(self.rgPos) + '\\n'\n",
      "        strBody = strBody + '\\t\\tVel: ' + str(self.rgVel) + '\\n'\n",
      "        strBody = strBody + '\\t\\tMass: ' + str(self.dMass) + '\\n'\n",
      "        return strBody"
     ],
     "language": "python",
     "metadata": {},
     "outputs": [],
     "prompt_number": 10
    },
    {
     "cell_type": "code",
     "collapsed": false,
     "input": [
      "class System:\n",
      "    def __init__(self, rgBodiesInit = None):\n",
      "        if rgBodiesInit is None:\n",
      "            rgBodiesInit = []\n",
      "        self.rgBodies = rgBodiesInit\n",
      "        \n",
      "    def getSize(self):\n",
      "        return len(self.rgBodies)\n",
      "    \n",
      "    def getBody(self, iBody):\n",
      "        if iBody >= len(self.rgBodies) or -iBody > len(self.rgBodies):\n",
      "            print 'ERROR: index out of range'\n",
      "            return\n",
      "        return self.rgBodies[iBody]\n",
      "    \n",
      "    def setBody(self, iBody, BodySet):\n",
      "        if iBody >= len(self.rgBodies) or -iBody > len(self.rgBodies):\n",
      "            print 'ERROR: index out of range'\n",
      "            return\n",
      "        self.rgBodies[iBody] = BodySet\n",
      "        \n",
      "    def addBody(self, BodyAdd, iBody = -1):\n",
      "        self.rgBodies.insert(iBody, BodyAdd)\n",
      "        \n",
      "    def rmBody(self, iBody = -1):\n",
      "        return self.rgBodies.pop(iBody)\n",
      "    \n",
      "    def getSysState(self):\n",
      "        rgSysState = []\n",
      "        for iBody in self.rgBodies:\n",
      "            rgSysState.append(iBody.getState())\n",
      "        return array(rgSysState).reshape(size(rgSysState))\n",
      "    \n",
      "    def setSysState(self, rgSysState):\n",
      "        nSize = len(self.rgBodies[0].rgPos)\n",
      "        iStart = 0\n",
      "        iEnd = nSize\n",
      "        for iBody in self.rgBodies:\n",
      "            iBody.setState(rgSysState[iStart:iEnd], rgSysState[iEnd:(iEnd + nSize)])\n",
      "            iStart = iEnd + nSize\n",
      "            iEnd = iStart + nSize\n",
      "    \n",
      "    def __str__(self):\n",
      "        strSys = 'System: \\n'\n",
      "        for iBody in range(len(self.rgBodies)):\n",
      "            strSys = strSys + '\\tBody ' + str(iBody + 1) + ':\\n'\n",
      "            strSys = strSys + str(self.rgBodies[iBody])\n",
      "        return strSys"
     ],
     "language": "python",
     "metadata": {},
     "outputs": [],
     "prompt_number": 11
    },
    {
     "cell_type": "code",
     "collapsed": false,
     "input": [
      "class Force:\n",
      "    def __init__(self, SysInit):\n",
      "        self.Sys = SysInit\n",
      "        \n",
      "    def __call__(self, t, y):\n",
      "        rgSysState = y\n",
      "        self.Sys.setSysState(rgSysState)\n",
      "        self.rgDeriv = []\n",
      "        self.rgAcc = zeros((len(self.Sys.rgBodies), len(self.Sys.rgBodies), \\\n",
      "                len(self.Sys.rgBodies[0].rgPos)))\n",
      "        for iState in range(len(rgSysState)):\n",
      "            self.rgDeriv.append([rgSysState[iState][1], zeros(len(rgSysState[iState][0]))])\n",
      "            for jState in range(len(rgSysState)):\n",
      "                if jState >= iState:\n",
      "                    self.rgAcc[iState, jState, :] = \\\n",
      "                        zeros((1, len(rgSysState[iState][0])))\n",
      "                else:\n",
      "                    self.rgAcc[iState, jState, :] = \\\n",
      "                        self.fnAcc(self.Sys.rgBodies[iState], \\\n",
      "                        self.Sys.rgBodies[jState])\n",
      "                        \n",
      "        for iState in range(len(rgSysState)):\n",
      "            for iPos in range(len(rgSysState[iState][0])):\n",
      "                self.rgDeriv[iState][1][iPos] = self.Sys.rgBodies[iState].dMass * \\\n",
      "                    (sum(self.rgAcc[:, iState, iPos]) - sum(self.rgAcc[iState, :, iPos]))\n",
      "\n",
      "        return array(self.rgDeriv)\n",
      "             \n",
      "    # calculates the force of Body1 on Body 2\n",
      "    def fnAcc(self, Body1, Body2):\n",
      "        return Body1.dMass * Body2.dMass * (Body2.rgPos - Body1.rgPos) \\\n",
      "                / norm(Body2.rgPos - Body1.rgPos)**3"
     ],
     "language": "python",
     "metadata": {},
     "outputs": [],
     "prompt_number": 12
    },
    {
     "cell_type": "code",
     "collapsed": false,
     "input": [
      "Body1 = Body(array([0., 0.]), array([0., 0.]), 1.)\n",
      "Body2 = Body(array([1., 0.]), array([0., 0.8]), 1.)\n",
      "Body3 = Body(array([-1., 0.]), array([0., -0.8]), 1.)\n",
      "\n",
      "Sys = System([Body1, Body2, Body3])\n",
      "\n",
      "f = Force(Sys)\n",
      "\n",
      "print f.Sys"
     ],
     "language": "python",
     "metadata": {},
     "outputs": [
      {
       "output_type": "stream",
       "stream": "stdout",
       "text": [
        "System: \n",
        "\tBody 1:\n",
        "\t\tLoc: [ 0.  0.]\n",
        "\t\tVel: [ 0.  0.]\n",
        "\t\tMass: 1.0\n",
        "\tBody 2:\n",
        "\t\tLoc: [ 1.  0.]\n",
        "\t\tVel: [ 0.   0.8]\n",
        "\t\tMass: 1.0\n",
        "\tBody 3:\n",
        "\t\tLoc: [-1.  0.]\n",
        "\t\tVel: [ 0.  -0.8]\n",
        "\t\tMass: 1.0\n",
        "\n"
       ]
      }
     ],
     "prompt_number": 13
    },
    {
     "cell_type": "code",
     "collapsed": false,
     "input": [
      "rgSysState = f.Sys.getSysState()\n",
      "print rgSysState\n",
      "print len(rgSysState)"
     ],
     "language": "python",
     "metadata": {},
     "outputs": [
      {
       "output_type": "stream",
       "stream": "stdout",
       "text": [
        "[ 0.   0.   0.   0.   1.   0.   0.   0.8 -1.   0.   0.  -0.8]\n",
        "12\n"
       ]
      }
     ],
     "prompt_number": 14
    },
    {
     "cell_type": "code",
     "collapsed": false,
     "input": [
      "i = ode(f)\n",
      "\n",
      "i.set_integrator('vode', method='adams')\n",
      "\n",
      "i.set_initial_value(0., f.Sys.getSysState())\n",
      "\n",
      "print f.Sys.getSysState()\n",
      "\n",
      "print i.y\n",
      "\n",
      "dt = 0.01\n",
      "yf = [f.Sys.getSysState()]\n",
      "\n",
      "times = arange(0., 10, dt)\n",
      "\n",
      "for t in times[1:]:\n",
      "    i.integrate(i.t+dt)\n",
      "    yf.append(i.y)\n",
      "    \n",
      "yf = array(yf)"
     ],
     "language": "python",
     "metadata": {},
     "outputs": [
      {
       "ename": "IndexError",
       "evalue": "invalid index to scalar variable.",
       "output_type": "pyerr",
       "traceback": [
        "\u001b[1;31m---------------------------------------------------------------------------\u001b[0m\n\u001b[1;31mIndexError\u001b[0m                                Traceback (most recent call last)",
        "\u001b[1;32m<ipython-input-15-38faa632164a>\u001b[0m in \u001b[0;36m<module>\u001b[1;34m()\u001b[0m\n\u001b[0;32m     15\u001b[0m \u001b[1;33m\u001b[0m\u001b[0m\n\u001b[0;32m     16\u001b[0m \u001b[1;32mfor\u001b[0m \u001b[0mt\u001b[0m \u001b[1;32min\u001b[0m \u001b[0mtimes\u001b[0m\u001b[1;33m[\u001b[0m\u001b[1;36m1\u001b[0m\u001b[1;33m:\u001b[0m\u001b[1;33m]\u001b[0m\u001b[1;33m:\u001b[0m\u001b[1;33m\u001b[0m\u001b[0m\n\u001b[1;32m---> 17\u001b[1;33m     \u001b[0mi\u001b[0m\u001b[1;33m.\u001b[0m\u001b[0mintegrate\u001b[0m\u001b[1;33m(\u001b[0m\u001b[0mi\u001b[0m\u001b[1;33m.\u001b[0m\u001b[0mt\u001b[0m\u001b[1;33m+\u001b[0m\u001b[0mdt\u001b[0m\u001b[1;33m)\u001b[0m\u001b[1;33m\u001b[0m\u001b[0m\n\u001b[0m\u001b[0;32m     18\u001b[0m     \u001b[0myf\u001b[0m\u001b[1;33m.\u001b[0m\u001b[0mappend\u001b[0m\u001b[1;33m(\u001b[0m\u001b[0mi\u001b[0m\u001b[1;33m.\u001b[0m\u001b[0my\u001b[0m\u001b[1;33m)\u001b[0m\u001b[1;33m\u001b[0m\u001b[0m\n\u001b[0;32m     19\u001b[0m \u001b[1;33m\u001b[0m\u001b[0m\n",
        "\u001b[1;32m/usr/lib/python2.7/dist-packages/scipy/integrate/_ode.pyc\u001b[0m in \u001b[0;36mintegrate\u001b[1;34m(self, t, step, relax)\u001b[0m\n\u001b[0;32m    331\u001b[0m         self.y, self.t = mth(self.f, self.jac or (lambda: None),\n\u001b[0;32m    332\u001b[0m                             \u001b[0mself\u001b[0m\u001b[1;33m.\u001b[0m\u001b[0my\u001b[0m\u001b[1;33m,\u001b[0m \u001b[0mself\u001b[0m\u001b[1;33m.\u001b[0m\u001b[0mt\u001b[0m\u001b[1;33m,\u001b[0m \u001b[0mt\u001b[0m\u001b[1;33m,\u001b[0m\u001b[1;33m\u001b[0m\u001b[0m\n\u001b[1;32m--> 333\u001b[1;33m                             self.f_params, self.jac_params)\n\u001b[0m\u001b[0;32m    334\u001b[0m         \u001b[1;32mreturn\u001b[0m \u001b[0mself\u001b[0m\u001b[1;33m.\u001b[0m\u001b[0my\u001b[0m\u001b[1;33m\u001b[0m\u001b[0m\n\u001b[0;32m    335\u001b[0m \u001b[1;33m\u001b[0m\u001b[0m\n",
        "\u001b[1;32m/usr/lib/python2.7/dist-packages/scipy/integrate/_ode.pyc\u001b[0m in \u001b[0;36mrun\u001b[1;34m(self, *args)\u001b[0m\n\u001b[0;32m    629\u001b[0m             \u001b[0mself\u001b[0m\u001b[1;33m.\u001b[0m\u001b[0macquire_new_handle\u001b[0m\u001b[1;33m(\u001b[0m\u001b[1;33m)\u001b[0m\u001b[1;33m\u001b[0m\u001b[0m\n\u001b[0;32m    630\u001b[0m         y1, t, istate = self.runner(*(args[:5] + tuple(self.call_args) +\n\u001b[1;32m--> 631\u001b[1;33m                                       args[5:]))\n\u001b[0m\u001b[0;32m    632\u001b[0m         \u001b[1;32mif\u001b[0m \u001b[0mistate\u001b[0m \u001b[1;33m<\u001b[0m \u001b[1;36m0\u001b[0m\u001b[1;33m:\u001b[0m\u001b[1;33m\u001b[0m\u001b[0m\n\u001b[0;32m    633\u001b[0m             warnings.warn('vode: ' +\n",
        "\u001b[1;32m<ipython-input-12-0ef5146c3b08>\u001b[0m in \u001b[0;36m__call__\u001b[1;34m(self, t, y)\u001b[0m\n\u001b[0;32m     10\u001b[0m                 len(self.Sys.rgBodies[0].rgPos)))\n\u001b[0;32m     11\u001b[0m         \u001b[1;32mfor\u001b[0m \u001b[0miState\u001b[0m \u001b[1;32min\u001b[0m \u001b[0mrange\u001b[0m\u001b[1;33m(\u001b[0m\u001b[0mlen\u001b[0m\u001b[1;33m(\u001b[0m\u001b[0mrgSysState\u001b[0m\u001b[1;33m)\u001b[0m\u001b[1;33m)\u001b[0m\u001b[1;33m:\u001b[0m\u001b[1;33m\u001b[0m\u001b[0m\n\u001b[1;32m---> 12\u001b[1;33m             \u001b[0mself\u001b[0m\u001b[1;33m.\u001b[0m\u001b[0mrgDeriv\u001b[0m\u001b[1;33m.\u001b[0m\u001b[0mappend\u001b[0m\u001b[1;33m(\u001b[0m\u001b[1;33m[\u001b[0m\u001b[0mrgSysState\u001b[0m\u001b[1;33m[\u001b[0m\u001b[0miState\u001b[0m\u001b[1;33m]\u001b[0m\u001b[1;33m[\u001b[0m\u001b[1;36m1\u001b[0m\u001b[1;33m]\u001b[0m\u001b[1;33m,\u001b[0m \u001b[0mzeros\u001b[0m\u001b[1;33m(\u001b[0m\u001b[0mlen\u001b[0m\u001b[1;33m(\u001b[0m\u001b[0mrgSysState\u001b[0m\u001b[1;33m[\u001b[0m\u001b[0miState\u001b[0m\u001b[1;33m]\u001b[0m\u001b[1;33m[\u001b[0m\u001b[1;36m0\u001b[0m\u001b[1;33m]\u001b[0m\u001b[1;33m)\u001b[0m\u001b[1;33m)\u001b[0m\u001b[1;33m]\u001b[0m\u001b[1;33m)\u001b[0m\u001b[1;33m\u001b[0m\u001b[0m\n\u001b[0m\u001b[0;32m     13\u001b[0m             \u001b[1;32mfor\u001b[0m \u001b[0mjState\u001b[0m \u001b[1;32min\u001b[0m \u001b[0mrange\u001b[0m\u001b[1;33m(\u001b[0m\u001b[0mlen\u001b[0m\u001b[1;33m(\u001b[0m\u001b[0mrgSysState\u001b[0m\u001b[1;33m)\u001b[0m\u001b[1;33m)\u001b[0m\u001b[1;33m:\u001b[0m\u001b[1;33m\u001b[0m\u001b[0m\n\u001b[0;32m     14\u001b[0m                 \u001b[1;32mif\u001b[0m \u001b[0mjState\u001b[0m \u001b[1;33m>=\u001b[0m \u001b[0miState\u001b[0m\u001b[1;33m:\u001b[0m\u001b[1;33m\u001b[0m\u001b[0m\n",
        "\u001b[1;31mIndexError\u001b[0m: invalid index to scalar variable."
       ]
      },
      {
       "output_type": "stream",
       "stream": "stdout",
       "text": [
        "[ 0.   0.   0.   0.   1.   0.   0.   0.8 -1.   0.   0.  -0.8]\n",
        "[ 0.]\n"
       ]
      }
     ],
     "prompt_number": 15
    },
    {
     "cell_type": "code",
     "collapsed": false,
     "input": [
      "plot(yf[:, 0, 0, 0], yf[:, 0, 0, 1])\n",
      "plot(yf[:, 1, 0, 0], yf[:, 1, 0, 1])\n",
      "plot(yf[:, 2, 0, 0], yf[:, 2, 0, 1])"
     ],
     "language": "python",
     "metadata": {},
     "outputs": [
      {
       "output_type": "pyout",
       "prompt_number": 269,
       "text": [
        "[<matplotlib.lines.Line2D at 0x5528890>]"
       ]
      },
      {
       "output_type": "display_data",
       "png": "[encoded data removed]"
      }
     ],
     "prompt_number": 269
    },
    {
     "cell_type": "code",
     "collapsed": false,
     "input": [
      "rgSysState = Sys.getSysState()\n",
      "Sys.setSysState(rgSysState)\n",
      "rgDeriv = []\n",
      "rgAcc = zeros((len(rgSysState), len(rgSysState), \\\n",
      "        len(rgSysState[0][0])))\n",
      "for iState in range(len(rgSysState)):\n",
      "    rgDeriv.append([rgSysState[iState][1], zeros(len(rgSysState[iState][0]))])\n",
      "    for jState in range(len(rgSysState)):\n",
      "        if jState >= iState:\n",
      "            rgAcc[iState, jState, :] = \\\n",
      "                zeros((1, len(rgSysState[iState][0])))\n",
      "        else:\n",
      "            rgAcc[iState, jState, :] = \\\n",
      "                f.fnAcc(Sys.rgBodies[iState], \\\n",
      "                Sys.rgBodies[jState])\n",
      "                \n",
      "for iState in range(len(rgSysState)):\n",
      "    for iPos in range(len(rgSysState[iState][0])):\n",
      "        rgDeriv[iState][1][iPos] = Sys.rgBodies[iState].dMass * \\\n",
      "            (sum(rgAcc[:, iState, iPos]) - sum(rgAcc[iState, :, iPos]))\n",
      "\n",
      "print rgAcc[:, :, 0]\n",
      "print rgDeriv"
     ],
     "language": "python",
     "metadata": {},
     "outputs": [
      {
       "output_type": "stream",
       "stream": "stdout",
       "text": [
        "[[ 0.    0.    0.  ]\n",
        " [-1.    0.    0.  ]\n",
        " [ 1.    0.25  0.  ]]\n",
        "[[array([ 0.,  0.]), array([ 0.,  0.])], [array([ 0. ,  0.8]), array([ 1.25,  0.  ])], [array([ 0. , -0.8]), array([-1.25,  0.  ])]]\n"
       ]
      }
     ],
     "prompt_number": 270
    },
    {
     "cell_type": "code",
     "collapsed": false,
     "input": [
      "print yf"
     ],
     "language": "python",
     "metadata": {},
     "outputs": [
      {
       "output_type": "stream",
       "stream": "stdout",
       "text": [
        "[[[[ 0.   0. ]\n",
        "   [ 0.   0. ]]\n",
        "\n",
        "  [[ 1.   0. ]\n",
        "   [ 0.   0.8]]\n",
        "\n",
        "  [[-1.   0. ]\n",
        "   [ 0.  -0.8]]]\n",
        "\n",
        "\n",
        " [[[ 0.   0. ]\n",
        "   [ 0.   0. ]]\n",
        "\n",
        "  [[ 1.   0. ]\n",
        "   [ 0.   0.8]]\n",
        "\n",
        "  [[-1.   0. ]\n",
        "   [ 0.  -0.8]]]\n",
        "\n",
        "\n",
        " [[[ 0.   0. ]\n",
        "   [ 0.   0. ]]\n",
        "\n",
        "  [[ 1.   0. ]\n",
        "   [ 0.   0.8]]\n",
        "\n",
        "  [[-1.   0. ]\n",
        "   [ 0.  -0.8]]]\n",
        "\n",
        "\n",
        " ..., \n",
        " [[[ 0.   0. ]\n",
        "   [ 0.   0. ]]\n",
        "\n",
        "  [[ 1.   0. ]\n",
        "   [ 0.   0.8]]\n",
        "\n",
        "  [[-1.   0. ]\n",
        "   [ 0.  -0.8]]]\n",
        "\n",
        "\n",
        " [[[ 0.   0. ]\n",
        "   [ 0.   0. ]]\n",
        "\n",
        "  [[ 1.   0. ]\n",
        "   [ 0.   0.8]]\n",
        "\n",
        "  [[-1.   0. ]\n",
        "   [ 0.  -0.8]]]\n",
        "\n",
        "\n",
        " [[[ 0.   0. ]\n",
        "   [ 0.   0. ]]\n",
        "\n",
        "  [[ 1.   0. ]\n",
        "   [ 0.   0.8]]\n",
        "\n",
        "  [[-1.   0. ]\n",
        "   [ 0.  -0.8]]]]\n"
       ]
      }
     ],
     "prompt_number": 271
    },
    {
     "cell_type": "code",
     "collapsed": false,
     "input": [
      "class InitialConditions:"
     ],
     "language": "python",
     "metadata": {},
     "outputs": []
    },
    {
     "cell_type": "code",
     "collapsed": false,
     "input": [
      "class Integrator:"
     ],
     "language": "python",
     "metadata": {},
     "outputs": [
      {
       "ename": "SyntaxError",
       "evalue": "unexpected EOF while parsing (<ipython-input-36-e6c830c6bfed>, line 1)",
       "output_type": "pyerr",
       "traceback": [
        "\u001b[1;36m  File \u001b[1;32m\"<ipython-input-36-e6c830c6bfed>\"\u001b[1;36m, line \u001b[1;32m1\u001b[0m\n\u001b[1;33m    class Integrator:\u001b[0m\n\u001b[1;37m                     ^\u001b[0m\n\u001b[1;31mSyntaxError\u001b[0m\u001b[1;31m:\u001b[0m unexpected EOF while parsing\n"
       ]
      }
     ],
     "prompt_number": 36
    }
   ],
   "metadata": {}
  }
 ]
}